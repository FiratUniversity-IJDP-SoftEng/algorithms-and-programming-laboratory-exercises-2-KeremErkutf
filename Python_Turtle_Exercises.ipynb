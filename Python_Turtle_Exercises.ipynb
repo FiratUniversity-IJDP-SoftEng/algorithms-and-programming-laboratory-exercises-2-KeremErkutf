{
  "cells": [
    {
      "cell_type": "markdown",
      "metadata": {
        "id": "ytbzyl3rnDRY"
      },
      "source": [
        "# Python Turtle Exercises\n",
        "\n",
        "This assignment aims to improve your algorithmic skills by drawing various geometric patterns using the Python Turtle library.  \n",
        "Each exercise includes a description and a code cell for your solutions.\n",
        "\n",
        "# Exercise 1: Drawing a Star\n",
        "## Description:\n",
        "Design an algorithm to draw a five-pointed star. Calculate the angle and line length correctly."
      ]
    },
    {
      "cell_type": "code",
      "execution_count": null,
      "metadata": {
        "id": "3uUSg4xJnUAw"
      },
      "outputs": [],
      "source": [
        "import turtle\n",
        "\n",
        "wn = turtle.Screen()\n",
        "wn.bgcolor(\"pink\")\n",
        "wn.title(\"Pentagram\")\n",
        "\n",
        "tosbik = turtle.Turtle()\n",
        "tosbik.color(\"black\")\n",
        "tosbik.pensize(3)\n",
        "\n",
        "\n",
        "for i in range(5):\n",
        "    tosbik.forward(150)  \n",
        "    tosbik.right(144)    \n",
        "\n",
        "wn.mainloop()\n"
      ]
    },
    {
      "attachments": {
        "image.png": {
          "image/png": "[encoded data removed]"
        }
      },
      "cell_type": "markdown",
      "metadata": {},
      "source": [
        "### Result 1\n",
        "\n",
        "![image.png](attachment:image.png)"
      ]
    },
    {
      "cell_type": "markdown",
      "metadata": {
        "id": "tGUI2TbgnZYu"
      },
      "source": [
        "# Exercise 2: Drawing a Spiral Square\n",
        "## Description:\n",
        "Design an algorithm to draw a spiral square with increasing side lengths. Consider how to change the turtle's turning angle and movement distance after each square."
      ]
    },
    {
      "cell_type": "code",
      "execution_count": null,
      "metadata": {
        "id": "UAinAy64neJ9"
      },
      "outputs": [],
      "source": [
        "import turtle \n",
        "\n",
        "wn = turtle.Screen()\n",
        "wn.bgcolor(\"pink\")\n",
        "wn.title(\"PANA\")\n",
        "\n",
        "tosbik = turtle.Turtle()\n",
        "tosbik.color(\"white\")\n",
        "tosbik.pensize(3)\n",
        "\n",
        "edge = int(input(\"Chose the edge number.\"))\n",
        "\n",
        "x = 0\n",
        "for i in range(edge):\n",
        "    tosbik.forward(20 + x)\n",
        "    tosbik.right(270)\n",
        "    x = x + 5\n",
        "\n",
        "wn.mainloop()"
      ]
    },
    {
      "attachments": {
        "image.png": {
          "image/png": "[encoded data removed]"
        }
      },
      "cell_type": "markdown",
      "metadata": {},
      "source": [
        "### Result 2\n",
        "![image.png](attachment:image.png)"
      ]
    },
    {
      "cell_type": "markdown",
      "metadata": {
        "id": "9u3aYlazngbx"
      },
      "source": [
        "# Exercise 3: Drawing Nested Polygons\n",
        "## Description:\n",
        "Design an algorithm to draw nested polygons with the same center and number of sides. Consider how to adjust the size of each polygon and position the turtle while drawing."
      ]
    },
    {
      "cell_type": "code",
      "execution_count": 1,
      "metadata": {
        "id": "GvJ5VlvJnoDz"
      },
      "outputs": [],
      "source": [
        "import turtle\n",
        "\n",
        "wn = turtle.Screen()\n",
        "wn.bgcolor(\"pink\")\n",
        "wn.title(\"Nested Squares\")\n",
        "\n",
        "tosbik = turtle.Turtle()\n",
        "tosbik.color(\"white\")\n",
        "tosbik.pensize(3)\n",
        "tosbik.speed(4)\n",
        "\n",
        "def draw_square(size):\n",
        "    for _ in range(4):\n",
        "        tosbik.forward(size)\n",
        "        tosbik.right(90)\n",
        "\n",
        "def nested_squares(square_count):\n",
        "\n",
        "    size = 20  \n",
        "\n",
        "    for _ in range(square_count):\n",
        "        tosbik.penup()\n",
        "        tosbik.goto(-size / 2, size / 2)  \n",
        "        tosbik.pendown()\n",
        "\n",
        "        draw_square(size)  \n",
        "\n",
        "        size += 40  \n",
        "\n",
        "nested_squares(10)\n",
        "\n",
        "wn.mainloop()"
      ]
    },
    {
      "attachments": {
        "image-2.png": {
          "image/png": "[encoded data removed]"
        }
      },
      "cell_type": "markdown",
      "metadata": {},
      "source": [
        "### Result 3\n",
        "\n",
        "![image-2.png](attachment:image-2.png)"
      ]
    },
    {
      "cell_type": "markdown",
      "metadata": {
        "id": "w4S_F7XJnpYI"
      },
      "source": [
        "# Exercise 4: Drawing a Colorful Spiral\n",
        "## Description:\n",
        "Design an algorithm to draw a spiral using different colors. Consider how to change the color at each step and create the spiral shape."
      ]
    },
    {
      "cell_type": "code",
      "execution_count": null,
      "metadata": {
        "id": "e4KCcVxpnuUn"
      },
      "outputs": [],
      "source": [
        "import turtle\n",
        "\n",
        "wn = turtle.Screen()\n",
        "wn.bgcolor(\"white\")\n",
        "wn.title(\"Colorful Things\")\n",
        "\n",
        "tosbik = turtle.Turtle()\n",
        "tosbik.pensize(3)\n",
        "tosbik.speed(4)\n",
        "\n",
        "color = [\"red\", \"orange\", \"yellow\", \"green\", \"blue\", \"purple\"]\n",
        "\n",
        "REV = 60\n",
        "angle = 0\n",
        "colorCount = 0\n",
        "\n",
        "def colorfulSpiral(REV, angle, colorCount):\n",
        "    for i in range(REV):\n",
        "        tosbik.color(color[colorCount % 6])\n",
        "        tosbik.forward(40)\n",
        "        tosbik.right(angle)\n",
        "        angle += 1\n",
        "        colorCount +=  1\n",
        "colorfulSpiral(REV, angle, colorCount)        \n",
        "\n",
        "wn.mainloop()"
      ]
    },
    {
      "attachments": {
        "image.png": {
          "image/png": "[encoded data removed]"
        }
      },
      "cell_type": "markdown",
      "metadata": {},
      "source": [
        "### Result 4\n",
        "![image.png](attachment:image.png)"
      ]
    },
    {
      "cell_type": "markdown",
      "metadata": {
        "id": "U4JZEptVn74m"
      },
      "source": [
        "# Exercise 5: Drawing a Random Pattern\n",
        "## Description:\n",
        "Design an algorithm to create an interesting pattern by randomly changing the turtle's movements and properties (color, thickness, etc.). Think about how to use randomness and vary different parameters."
      ]
    },
    {
      "cell_type": "code",
      "execution_count": 1,
      "metadata": {
        "id": "4nk33NI8m9s1"
      },
      "outputs": [],
      "source": [
        "import turtle\n",
        "\n",
        "wn = turtle.Screen()\n",
        "wn.bgcolor(\"white\")\n",
        "wn.title(\"Five Squares at Bitlis\")\n",
        "\n",
        "tosbik = turtle.Turtle()\n",
        "tosbik.pensize(3)\n",
        "tosbik.speed(4)\n",
        "\n",
        "def drawSquare(edgeOfSize,edgeOfSpace):\n",
        "    for i in range(4):\n",
        "        tosbik.forward(edgeOfSize)\n",
        "        tosbik.left(90)\n",
        "\n",
        "    tosbik.penup()\n",
        "    tosbik.forward(50) \n",
        "    tosbik.pendown() \n",
        "    \n",
        "    \n",
        "    \n",
        "    \n",
        "for i in range(5):\n",
        "    drawSquare(40, 20)\n",
        "    i += 1\n",
        "\n",
        "wn.mainloop()\n"
      ]
    }
  ],
  "metadata": {
    "accelerator": "GPU",
    "colab": {
      "gpuType": "T4",
      "provenance": []
    },
    "kernelspec": {
      "display_name": "base",
      "language": "python",
      "name": "python3"
    },
    "language_info": {
      "codemirror_mode": {
        "name": "ipython",
        "version": 3
      },
      "file_extension": ".py",
      "mimetype": "text/x-python",
      "name": "python",
      "nbconvert_exporter": "python",
      "pygments_lexer": "ipython3",
      "version": "3.12.9"
    }
  },
  "nbformat": 4,
  "nbformat_minor": 0
}
